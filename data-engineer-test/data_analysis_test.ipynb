{
 "cells": [
  {
   "cell_type": "markdown",
   "metadata": {},
   "source": [
    "# Data Analysis Test\n",
    "\n",
    "Use file `./ref/crop_data.csv` for input\n",
    "\n",
    "Use `pandas` lib\n",
    "\n",
    "Write your code and display readable result"
   ]
  },
  {
   "cell_type": "code",
   "execution_count": 1,
   "metadata": {},
   "outputs": [],
   "source": [
    "import pandas as pd"
   ]
  },
  {
   "cell_type": "code",
   "execution_count": 2,
   "metadata": {},
   "outputs": [
    {
     "name": "stdout",
     "output_type": "stream",
     "text": [
      "<class 'pandas.core.frame.DataFrame'>\n",
      "RangeIndex: 11914 entries, 0 to 11913\n",
      "Data columns (total 7 columns):\n",
      " #   Column            Non-Null Count  Dtype  \n",
      "---  ------            --------------  -----  \n",
      " 0   crop_year         11914 non-null  object \n",
      " 1   year              11914 non-null  int64  \n",
      " 2   product           11914 non-null  object \n",
      " 3   province          11914 non-null  object \n",
      " 4   area_plant_rai    11769 non-null  float64\n",
      " 5   area_harvest_rai  11728 non-null  float64\n",
      " 6   production_ton    11692 non-null  float64\n",
      "dtypes: float64(3), int64(1), object(3)\n",
      "memory usage: 651.7+ KB\n"
     ]
    }
   ],
   "source": [
    "# read csv file\n",
    "\n",
    "df = pd.read_csv(\"./ref/crop_data.csv\")\n",
    "df.info()"
   ]
  },
  {
   "cell_type": "markdown",
   "metadata": {},
   "source": [
    "### Example Question\n",
    "\n",
    "How many \"ยางพารา\" produced in whole country (\"ทั้งประเทศ\")\n"
   ]
  },
  {
   "cell_type": "code",
   "execution_count": 3,
   "metadata": {},
   "outputs": [
    {
     "data": {
      "text/plain": [
       "47686839.0"
      ]
     },
     "execution_count": 3,
     "metadata": {},
     "output_type": "execute_result"
    }
   ],
   "source": [
    "# How many \"ยางพารา\" produced in whole country (\"ทั้งประเทศ\")\n",
    "new_df = df.loc[\n",
    "    (df[\"product\"] == \"ยางพารา\" ) &\n",
    "    (df[\"province\"] == \"ทั้งประเทศ\") \n",
    "]\n",
    "sum(new_df[\"production_ton\"])\n"
   ]
  },
  {
   "cell_type": "markdown",
   "metadata": {},
   "source": [
    "### Question 1\n",
    "\n",
    "How many \"ข้าวนาปี\" produced in \"ยะลา\" between year 2550 - 2553\n"
   ]
  },
  {
   "cell_type": "code",
   "execution_count": 13,
   "metadata": {},
   "outputs": [
    {
     "data": {
      "text/plain": [
       "87707.0"
      ]
     },
     "execution_count": 13,
     "metadata": {},
     "output_type": "execute_result"
    }
   ],
   "source": [
    "# Write you code and display question 1 result here.\n",
    "filtered_df = df[(df['product'] == 'ข้าวนาปี') & (df['province'] == 'ยะลา') & (df['year'] >= 2550) & (df['year'] <= 2553)]\n",
    "sum(filtered_df['production_ton'])"
   ]
  },
  {
   "cell_type": "markdown",
   "metadata": {},
   "source": [
    "### Question 2\n",
    "\n",
    "Calculate harvest rate of \"ข้าวนาปี\" in whole country\n",
    "\n",
    "_harvest rate = area_harvest_rai / area_plant_rai_"
   ]
  },
  {
   "cell_type": "code",
   "execution_count": 17,
   "metadata": {},
   "outputs": [
    {
     "name": "stdout",
     "output_type": "stream",
     "text": [
      "area_harvest_rai 730340255.0\n",
      "area_plant_rai 783456906.0\n",
      "harvest_rate 0.9322022046225986\n"
     ]
    }
   ],
   "source": [
    "# Write you code and display question 2 result here.\n",
    "# replace with your code\n",
    "filtered_df = df[(df['product'] == 'ข้าวนาปี') & (df['province'] == 'ทั้งประเทศ')]\n",
    "\n",
    "area_harvest_rai = sum(filtered_df['area_harvest_rai'])\n",
    "area_plant_rai = sum(filtered_df['area_plant_rai'])\n",
    "harvest_rate = area_harvest_rai / area_plant_rai\n",
    "\n",
    "print('area_harvest_rai', area_harvest_rai)\n",
    "print('area_plant_rai', area_plant_rai)\n",
    "print('harvest_rate', harvest_rate)"
   ]
  },
  {
   "cell_type": "markdown",
   "metadata": {},
   "source": [
    "### Question 3\n",
    "\n",
    "Calculate total profit of \"ข้าวโพดฝักอ่อน\" produced in \"ภาคเหนือ\" from year 2555 to 2562\n",
    "- profit rate in year 2555 - year 2559 is 50% (selling price is 50THB/kg.)\n",
    "- profit rate in year 2560 - year 2562 is 30% (selling price is 120THB/kg.)\n",
    "- assume all product was sold out every year.\n"
   ]
  },
  {
   "cell_type": "code",
   "execution_count": 33,
   "metadata": {},
   "outputs": [
    {
     "name": "stdout",
     "output_type": "stream",
     "text": [
      "25629875000.0\n"
     ]
    },
    {
     "name": "stderr",
     "output_type": "stream",
     "text": [
      "/var/folders/47/4s8ghw3d04n2vwshvyhmzqqc0000gn/T/ipykernel_32464/1263971197.py:5: SettingWithCopyWarning: \n",
      "A value is trying to be set on a copy of a slice from a DataFrame.\n",
      "Try using .loc[row_indexer,col_indexer] = value instead\n",
      "\n",
      "See the caveats in the documentation: https://pandas.pydata.org/pandas-docs/stable/user_guide/indexing.html#returning-a-view-versus-a-copy\n",
      "  filtered_df['income'] = filtered_df.apply(lambda x: x['production_ton'] * 1000 * 50 if x['year'] < 2560 else x['production_ton'] * 1000 * 1200, axis=1)\n",
      "/var/folders/47/4s8ghw3d04n2vwshvyhmzqqc0000gn/T/ipykernel_32464/1263971197.py:6: SettingWithCopyWarning: \n",
      "A value is trying to be set on a copy of a slice from a DataFrame.\n",
      "Try using .loc[row_indexer,col_indexer] = value instead\n",
      "\n",
      "See the caveats in the documentation: https://pandas.pydata.org/pandas-docs/stable/user_guide/indexing.html#returning-a-view-versus-a-copy\n",
      "  filtered_df['profit_thb'] = filtered_df.apply(lambda x: x['income'] * 0.5 if x['year'] < 2560 else x['income'] * 0.3, axis=1)\n"
     ]
    }
   ],
   "source": [
    "# Write you code and display question 3 result here.\n",
    "\n",
    "filtered_df = df[(df['product'] == 'ข้าวโพดฝักอ่อน') & (df['province'] == 'ภาคเหนือ') & (df['year'] >= 2555) & (df['year'] <= 2562)]\n",
    "\n",
    "filtered_df['income'] = filtered_df.apply(lambda x: x['production_ton'] * 1000 * 50 if x['year'] < 2560 else x['production_ton'] * 1000 * 1200, axis=1)\n",
    "filtered_df['profit_thb'] = filtered_df.apply(lambda x: x['income'] * 0.5 if x['year'] < 2560 else x['income'] * 0.3, axis=1)\n",
    "\n",
    "total_profit = sum(filtered_df['profit_thb'])\n",
    "\n",
    "print(total_profit)"
   ]
  },
  {
   "cell_type": "markdown",
   "metadata": {},
   "source": [
    "### Question 4\n",
    "\n",
    "Form question 3, display the dataframe with 'year', 'production_ton', 'income', 'profit_thb' column\n"
   ]
  },
  {
   "cell_type": "code",
   "execution_count": 34,
   "metadata": {},
   "outputs": [
    {
     "data": {
      "text/html": [
       "<div>\n",
       "<style scoped>\n",
       "    .dataframe tbody tr th:only-of-type {\n",
       "        vertical-align: middle;\n",
       "    }\n",
       "\n",
       "    .dataframe tbody tr th {\n",
       "        vertical-align: top;\n",
       "    }\n",
       "\n",
       "    .dataframe thead th {\n",
       "        text-align: right;\n",
       "    }\n",
       "</style>\n",
       "<table border=\"1\" class=\"dataframe\">\n",
       "  <thead>\n",
       "    <tr style=\"text-align: right;\">\n",
       "      <th></th>\n",
       "      <th>year</th>\n",
       "      <th>production_ton</th>\n",
       "      <th>income</th>\n",
       "      <th>profit_thb</th>\n",
       "    </tr>\n",
       "  </thead>\n",
       "  <tbody>\n",
       "    <tr>\n",
       "      <th>11690</th>\n",
       "      <td>2555</td>\n",
       "      <td>24741.0</td>\n",
       "      <td>1.237050e+09</td>\n",
       "      <td>6.185250e+08</td>\n",
       "    </tr>\n",
       "    <tr>\n",
       "      <th>11691</th>\n",
       "      <td>2556</td>\n",
       "      <td>25371.0</td>\n",
       "      <td>1.268550e+09</td>\n",
       "      <td>6.342750e+08</td>\n",
       "    </tr>\n",
       "    <tr>\n",
       "      <th>11692</th>\n",
       "      <td>2557</td>\n",
       "      <td>21788.0</td>\n",
       "      <td>1.089400e+09</td>\n",
       "      <td>5.447000e+08</td>\n",
       "    </tr>\n",
       "    <tr>\n",
       "      <th>11693</th>\n",
       "      <td>2558</td>\n",
       "      <td>20499.0</td>\n",
       "      <td>1.024950e+09</td>\n",
       "      <td>5.124750e+08</td>\n",
       "    </tr>\n",
       "    <tr>\n",
       "      <th>11694</th>\n",
       "      <td>2559</td>\n",
       "      <td>19332.0</td>\n",
       "      <td>9.666000e+08</td>\n",
       "      <td>4.833000e+08</td>\n",
       "    </tr>\n",
       "    <tr>\n",
       "      <th>11695</th>\n",
       "      <td>2560</td>\n",
       "      <td>21329.0</td>\n",
       "      <td>2.559480e+10</td>\n",
       "      <td>7.678440e+09</td>\n",
       "    </tr>\n",
       "    <tr>\n",
       "      <th>11696</th>\n",
       "      <td>2561</td>\n",
       "      <td>21757.0</td>\n",
       "      <td>2.610840e+10</td>\n",
       "      <td>7.832520e+09</td>\n",
       "    </tr>\n",
       "    <tr>\n",
       "      <th>11697</th>\n",
       "      <td>2562</td>\n",
       "      <td>20349.0</td>\n",
       "      <td>2.441880e+10</td>\n",
       "      <td>7.325640e+09</td>\n",
       "    </tr>\n",
       "  </tbody>\n",
       "</table>\n",
       "</div>"
      ],
      "text/plain": [
       "       year  production_ton        income    profit_thb\n",
       "11690  2555         24741.0  1.237050e+09  6.185250e+08\n",
       "11691  2556         25371.0  1.268550e+09  6.342750e+08\n",
       "11692  2557         21788.0  1.089400e+09  5.447000e+08\n",
       "11693  2558         20499.0  1.024950e+09  5.124750e+08\n",
       "11694  2559         19332.0  9.666000e+08  4.833000e+08\n",
       "11695  2560         21329.0  2.559480e+10  7.678440e+09\n",
       "11696  2561         21757.0  2.610840e+10  7.832520e+09\n",
       "11697  2562         20349.0  2.441880e+10  7.325640e+09"
      ]
     },
     "execution_count": 34,
     "metadata": {},
     "output_type": "execute_result"
    }
   ],
   "source": [
    "# Write you code and display question 4 result here.\n",
    "filtered_df[['year','production_ton','income','profit_thb']]"
   ]
  },
  {
   "cell_type": "markdown",
   "metadata": {},
   "source": [
    "### Question 5\n",
    "\n",
    "We plan to invest in growing soybeans (ถั่วเหลือง) which province should we invest.\n",
    "\n",
    "We looking for\n",
    "- high protential area (high havest_rate)\n",
    "- we want market share only 20% but production_ton should be more than 2000 in the past (2550 - 2562)\n",
    "\n"
   ]
  },
  {
   "cell_type": "code",
   "execution_count": 55,
   "metadata": {},
   "outputs": [
    {
     "name": "stderr",
     "output_type": "stream",
     "text": [
      "/var/folders/47/4s8ghw3d04n2vwshvyhmzqqc0000gn/T/ipykernel_32464/1381261124.py:13: SettingWithCopyWarning: \n",
      "A value is trying to be set on a copy of a slice from a DataFrame.\n",
      "Try using .loc[row_indexer,col_indexer] = value instead\n",
      "\n",
      "See the caveats in the documentation: https://pandas.pydata.org/pandas-docs/stable/user_guide/indexing.html#returning-a-view-versus-a-copy\n",
      "  filtered_pivot_df['havest_rate'] = filtered_pivot_df.apply(lambda x: x['area_harvest_rai']/x['area_plant_rai'], axis=1)\n"
     ]
    },
    {
     "data": {
      "text/html": [
       "<div>\n",
       "<style scoped>\n",
       "    .dataframe tbody tr th:only-of-type {\n",
       "        vertical-align: middle;\n",
       "    }\n",
       "\n",
       "    .dataframe tbody tr th {\n",
       "        vertical-align: top;\n",
       "    }\n",
       "\n",
       "    .dataframe thead th {\n",
       "        text-align: right;\n",
       "    }\n",
       "</style>\n",
       "<table border=\"1\" class=\"dataframe\">\n",
       "  <thead>\n",
       "    <tr style=\"text-align: right;\">\n",
       "      <th></th>\n",
       "      <th>area_plant_rai</th>\n",
       "      <th>area_harvest_rai</th>\n",
       "      <th>production_ton</th>\n",
       "      <th>havest_rate</th>\n",
       "    </tr>\n",
       "    <tr>\n",
       "      <th>province</th>\n",
       "      <th></th>\n",
       "      <th></th>\n",
       "      <th></th>\n",
       "      <th></th>\n",
       "    </tr>\n",
       "  </thead>\n",
       "  <tbody>\n",
       "    <tr>\n",
       "      <th>แม่ฮ่องสอน</th>\n",
       "      <td>696220.0</td>\n",
       "      <td>690424.0</td>\n",
       "      <td>216298.000</td>\n",
       "      <td>0.991675</td>\n",
       "    </tr>\n",
       "    <tr>\n",
       "      <th>แพร่</th>\n",
       "      <td>526436.0</td>\n",
       "      <td>521379.0</td>\n",
       "      <td>124649.000</td>\n",
       "      <td>0.990394</td>\n",
       "    </tr>\n",
       "    <tr>\n",
       "      <th>ฉะเชิงเทรา</th>\n",
       "      <td>25039.0</td>\n",
       "      <td>24730.0</td>\n",
       "      <td>8038.000</td>\n",
       "      <td>0.987659</td>\n",
       "    </tr>\n",
       "    <tr>\n",
       "      <th>ลำพูน</th>\n",
       "      <td>12285.0</td>\n",
       "      <td>12114.0</td>\n",
       "      <td>3471.967</td>\n",
       "      <td>0.986081</td>\n",
       "    </tr>\n",
       "    <tr>\n",
       "      <th>เชียงราย</th>\n",
       "      <td>306223.0</td>\n",
       "      <td>301801.0</td>\n",
       "      <td>68852.000</td>\n",
       "      <td>0.985560</td>\n",
       "    </tr>\n",
       "    <tr>\n",
       "      <th>เชียงใหม่</th>\n",
       "      <td>623103.0</td>\n",
       "      <td>612117.0</td>\n",
       "      <td>180564.000</td>\n",
       "      <td>0.982369</td>\n",
       "    </tr>\n",
       "    <tr>\n",
       "      <th>เพชรบูรณ์</th>\n",
       "      <td>36034.0</td>\n",
       "      <td>35372.0</td>\n",
       "      <td>8959.000</td>\n",
       "      <td>0.981628</td>\n",
       "    </tr>\n",
       "    <tr>\n",
       "      <th>สระแก้ว</th>\n",
       "      <td>92079.0</td>\n",
       "      <td>90330.0</td>\n",
       "      <td>31318.000</td>\n",
       "      <td>0.981005</td>\n",
       "    </tr>\n",
       "    <tr>\n",
       "      <th>นครสวรรค์</th>\n",
       "      <td>8232.0</td>\n",
       "      <td>8059.0</td>\n",
       "      <td>2021.000</td>\n",
       "      <td>0.978984</td>\n",
       "    </tr>\n",
       "    <tr>\n",
       "      <th>ตาก</th>\n",
       "      <td>299196.0</td>\n",
       "      <td>292663.0</td>\n",
       "      <td>71097.000</td>\n",
       "      <td>0.978165</td>\n",
       "    </tr>\n",
       "    <tr>\n",
       "      <th>น่าน</th>\n",
       "      <td>247640.0</td>\n",
       "      <td>241748.0</td>\n",
       "      <td>61758.000</td>\n",
       "      <td>0.976207</td>\n",
       "    </tr>\n",
       "    <tr>\n",
       "      <th>อุตรดิตถ์</th>\n",
       "      <td>232580.0</td>\n",
       "      <td>226710.0</td>\n",
       "      <td>54576.000</td>\n",
       "      <td>0.974761</td>\n",
       "    </tr>\n",
       "    <tr>\n",
       "      <th>จันทบุรี</th>\n",
       "      <td>13476.0</td>\n",
       "      <td>13088.0</td>\n",
       "      <td>3953.000</td>\n",
       "      <td>0.971208</td>\n",
       "    </tr>\n",
       "    <tr>\n",
       "      <th>หนองบัวลำภู</th>\n",
       "      <td>152020.0</td>\n",
       "      <td>147354.0</td>\n",
       "      <td>32071.000</td>\n",
       "      <td>0.969307</td>\n",
       "    </tr>\n",
       "    <tr>\n",
       "      <th>ขอนแก่น</th>\n",
       "      <td>392130.0</td>\n",
       "      <td>380054.0</td>\n",
       "      <td>93938.000</td>\n",
       "      <td>0.969204</td>\n",
       "    </tr>\n",
       "    <tr>\n",
       "      <th>ลำปาง</th>\n",
       "      <td>218124.0</td>\n",
       "      <td>211305.0</td>\n",
       "      <td>48759.000</td>\n",
       "      <td>0.968738</td>\n",
       "    </tr>\n",
       "    <tr>\n",
       "      <th>ชัยภูมิ</th>\n",
       "      <td>396800.0</td>\n",
       "      <td>383438.0</td>\n",
       "      <td>89826.000</td>\n",
       "      <td>0.966326</td>\n",
       "    </tr>\n",
       "    <tr>\n",
       "      <th>กาญจนบุรี</th>\n",
       "      <td>15080.0</td>\n",
       "      <td>14427.0</td>\n",
       "      <td>3588.948</td>\n",
       "      <td>0.956698</td>\n",
       "    </tr>\n",
       "    <tr>\n",
       "      <th>ปราจีนบุรี</th>\n",
       "      <td>9442.0</td>\n",
       "      <td>9030.0</td>\n",
       "      <td>2889.000</td>\n",
       "      <td>0.956365</td>\n",
       "    </tr>\n",
       "    <tr>\n",
       "      <th>สุโขทัย</th>\n",
       "      <td>281706.0</td>\n",
       "      <td>268313.0</td>\n",
       "      <td>76066.000</td>\n",
       "      <td>0.952458</td>\n",
       "    </tr>\n",
       "    <tr>\n",
       "      <th>เลย</th>\n",
       "      <td>412607.0</td>\n",
       "      <td>392625.0</td>\n",
       "      <td>103766.000</td>\n",
       "      <td>0.951571</td>\n",
       "    </tr>\n",
       "    <tr>\n",
       "      <th>พิษณุโลก</th>\n",
       "      <td>129914.0</td>\n",
       "      <td>123329.0</td>\n",
       "      <td>33654.000</td>\n",
       "      <td>0.949313</td>\n",
       "    </tr>\n",
       "    <tr>\n",
       "      <th>อุดรธานี</th>\n",
       "      <td>51209.0</td>\n",
       "      <td>47931.0</td>\n",
       "      <td>10469.000</td>\n",
       "      <td>0.935988</td>\n",
       "    </tr>\n",
       "    <tr>\n",
       "      <th>กาฬสินธุ์</th>\n",
       "      <td>17052.0</td>\n",
       "      <td>15864.0</td>\n",
       "      <td>3555.000</td>\n",
       "      <td>0.930331</td>\n",
       "    </tr>\n",
       "    <tr>\n",
       "      <th>พะเยา</th>\n",
       "      <td>13389.0</td>\n",
       "      <td>12428.0</td>\n",
       "      <td>3383.992</td>\n",
       "      <td>0.928225</td>\n",
       "    </tr>\n",
       "    <tr>\n",
       "      <th>พิจิตร</th>\n",
       "      <td>10386.0</td>\n",
       "      <td>9204.0</td>\n",
       "      <td>2494.000</td>\n",
       "      <td>0.886193</td>\n",
       "    </tr>\n",
       "    <tr>\n",
       "      <th>กำแพงเพชร</th>\n",
       "      <td>146923.0</td>\n",
       "      <td>127052.0</td>\n",
       "      <td>35843.000</td>\n",
       "      <td>0.864752</td>\n",
       "    </tr>\n",
       "  </tbody>\n",
       "</table>\n",
       "</div>"
      ],
      "text/plain": [
       "             area_plant_rai  area_harvest_rai  production_ton  havest_rate\n",
       "province                                                                  \n",
       "แม่ฮ่องสอน         696220.0          690424.0      216298.000     0.991675\n",
       "แพร่               526436.0          521379.0      124649.000     0.990394\n",
       "ฉะเชิงเทรา          25039.0           24730.0        8038.000     0.987659\n",
       "ลำพูน               12285.0           12114.0        3471.967     0.986081\n",
       "เชียงราย           306223.0          301801.0       68852.000     0.985560\n",
       "เชียงใหม่          623103.0          612117.0      180564.000     0.982369\n",
       "เพชรบูรณ์           36034.0           35372.0        8959.000     0.981628\n",
       "สระแก้ว             92079.0           90330.0       31318.000     0.981005\n",
       "นครสวรรค์            8232.0            8059.0        2021.000     0.978984\n",
       "ตาก                299196.0          292663.0       71097.000     0.978165\n",
       "น่าน               247640.0          241748.0       61758.000     0.976207\n",
       "อุตรดิตถ์          232580.0          226710.0       54576.000     0.974761\n",
       "จันทบุรี            13476.0           13088.0        3953.000     0.971208\n",
       "หนองบัวลำภู        152020.0          147354.0       32071.000     0.969307\n",
       "ขอนแก่น            392130.0          380054.0       93938.000     0.969204\n",
       "ลำปาง              218124.0          211305.0       48759.000     0.968738\n",
       "ชัยภูมิ            396800.0          383438.0       89826.000     0.966326\n",
       "กาญจนบุรี           15080.0           14427.0        3588.948     0.956698\n",
       "ปราจีนบุรี           9442.0            9030.0        2889.000     0.956365\n",
       "สุโขทัย            281706.0          268313.0       76066.000     0.952458\n",
       "เลย                412607.0          392625.0      103766.000     0.951571\n",
       "พิษณุโลก           129914.0          123329.0       33654.000     0.949313\n",
       "อุดรธานี            51209.0           47931.0       10469.000     0.935988\n",
       "กาฬสินธุ์           17052.0           15864.0        3555.000     0.930331\n",
       "พะเยา               13389.0           12428.0        3383.992     0.928225\n",
       "พิจิตร              10386.0            9204.0        2494.000     0.886193\n",
       "กำแพงเพชร          146923.0          127052.0       35843.000     0.864752"
      ]
     },
     "execution_count": 55,
     "metadata": {},
     "output_type": "execute_result"
    }
   ],
   "source": [
    "\n",
    "# Write you code and display question 5 result here.\n",
    "\n",
    "# Calculate harvest_rate\n",
    "\n",
    "filter_province_val = ['ทั้งประเทศ','ภาคเหนือ','ภาคกลาง','ภาคตะวันออกเฉียงเหนือ','ภาคใต้','ภาคตะวันตก']\n",
    "\n",
    "filtered_df = df[(~df['province'].isin(filter_province_val)) & (df['product'] == 'ถั่วเหลือง')]\n",
    "# filtered_df['havest_rate'] = filtered_df.apply(lambda x: x['area_harvest_rai']/x['area_plant_rai'], axis=1)\n",
    "# Filter\n",
    "pivot_df = filtered_df.groupby(['province']).sum()[['area_plant_rai','area_harvest_rai','production_ton']]\n",
    "filtered_pivot_df = pivot_df[pivot_df['production_ton'] > 2000]\n",
    "\n",
    "filtered_pivot_df['havest_rate'] = filtered_pivot_df.apply(lambda x: x['area_harvest_rai']/x['area_plant_rai'], axis=1)\n",
    "\n",
    "filtered_pivot_df.sort_values(['havest_rate'], axis=0, ascending=False)\n"
   ]
  },
  {
   "cell_type": "code",
   "execution_count": null,
   "metadata": {},
   "outputs": [],
   "source": []
  }
 ],
 "metadata": {
  "kernelspec": {
   "display_name": "venv",
   "language": "python",
   "name": "python3"
  },
  "language_info": {
   "codemirror_mode": {
    "name": "ipython",
    "version": 3
   },
   "file_extension": ".py",
   "mimetype": "text/x-python",
   "name": "python",
   "nbconvert_exporter": "python",
   "pygments_lexer": "ipython3",
   "version": "3.12.4"
  }
 },
 "nbformat": 4,
 "nbformat_minor": 2
}
